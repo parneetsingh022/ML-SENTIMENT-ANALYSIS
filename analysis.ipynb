{
 "cells": [
  {
   "cell_type": "code",
   "execution_count": 1,
   "metadata": {
    "executionInfo": {
     "elapsed": 3455,
     "status": "ok",
     "timestamp": 1685496034777,
     "user": {
      "displayName": "Parneet Singh Sidhu",
      "userId": "02411057063011506831"
     },
     "user_tz": -330
    },
    "id": "xJr5J9dS4O0c"
   },
   "outputs": [],
   "source": [
    "import tensorflow as tf\n",
    "import matplotlib.pyplot as plt\n",
    "import numpy as np\n",
    "import pandas as pd\n",
    "import os"
   ]
  },
  {
   "cell_type": "code",
   "execution_count": 2,
   "metadata": {
    "executionInfo": {
     "elapsed": 3,
     "status": "ok",
     "timestamp": 1685496034777,
     "user": {
      "displayName": "Parneet Singh Sidhu",
      "userId": "02411057063011506831"
     },
     "user_tz": -330
    },
    "id": "vuYobfcQ4ygj"
   },
   "outputs": [],
   "source": [
    "BASE_PATH = \"data\""
   ]
  },
  {
   "cell_type": "code",
   "execution_count": 3,
   "metadata": {
    "executionInfo": {
     "elapsed": 4,
     "status": "ok",
     "timestamp": 1685496034778,
     "user": {
      "displayName": "Parneet Singh Sidhu",
      "userId": "02411057063011506831"
     },
     "user_tz": -330
    },
    "id": "mAgY13oy6eZ6"
   },
   "outputs": [],
   "source": [
    "from sklearn.utils import shuffle\n",
    "\n",
    "def get_processed_df(df):\n",
    "    df.columns = ['x1','x2','labels','features']\n",
    "    df = shuffle(df)\n",
    "    df = df.dropna()\n",
    "    return df.drop(['x1','x2'],axis=1)"
   ]
  },
  {
   "cell_type": "code",
   "execution_count": 4,
   "metadata": {
    "colab": {
     "base_uri": "https://localhost:8080/",
     "height": 206
    },
    "executionInfo": {
     "elapsed": 1022,
     "status": "ok",
     "timestamp": 1685496035796,
     "user": {
      "displayName": "Parneet Singh Sidhu",
      "userId": "02411057063011506831"
     },
     "user_tz": -330
    },
    "id": "dAZXA9fl5CjS",
    "outputId": "858bac21-7345-4f22-e59e-9b2440dc650d"
   },
   "outputs": [
    {
     "data": {
      "text/html": [
       "<div>\n",
       "<style scoped>\n",
       "    .dataframe tbody tr th:only-of-type {\n",
       "        vertical-align: middle;\n",
       "    }\n",
       "\n",
       "    .dataframe tbody tr th {\n",
       "        vertical-align: top;\n",
       "    }\n",
       "\n",
       "    .dataframe thead th {\n",
       "        text-align: right;\n",
       "    }\n",
       "</style>\n",
       "<table border=\"1\" class=\"dataframe\">\n",
       "  <thead>\n",
       "    <tr style=\"text-align: right;\">\n",
       "      <th></th>\n",
       "      <th>labels</th>\n",
       "      <th>features</th>\n",
       "    </tr>\n",
       "  </thead>\n",
       "  <tbody>\n",
       "    <tr>\n",
       "      <th>6063</th>\n",
       "      <td>Neutral</td>\n",
       "      <td>You will definitely indeed not go far wrong wi...</td>\n",
       "    </tr>\n",
       "    <tr>\n",
       "      <th>25197</th>\n",
       "      <td>Neutral</td>\n",
       "      <td>This is not law, not its full history, a more ...</td>\n",
       "    </tr>\n",
       "    <tr>\n",
       "      <th>34020</th>\n",
       "      <td>Irrelevant</td>\n",
       "      <td>My wife and I celebrate the 50th episode of Th...</td>\n",
       "    </tr>\n",
       "    <tr>\n",
       "      <th>45518</th>\n",
       "      <td>Negative</td>\n",
       "      <td>@Verizon you really make clear with your promo...</td>\n",
       "    </tr>\n",
       "    <tr>\n",
       "      <th>50042</th>\n",
       "      <td>Irrelevant</td>\n",
       "      <td>How the fuck was cantona higher rated than Lah...</td>\n",
       "    </tr>\n",
       "  </tbody>\n",
       "</table>\n",
       "</div>"
      ],
      "text/plain": [
       "           labels                                           features\n",
       "6063      Neutral  You will definitely indeed not go far wrong wi...\n",
       "25197     Neutral  This is not law, not its full history, a more ...\n",
       "34020  Irrelevant  My wife and I celebrate the 50th episode of Th...\n",
       "45518    Negative  @Verizon you really make clear with your promo...\n",
       "50042  Irrelevant  How the fuck was cantona higher rated than Lah..."
      ]
     },
     "execution_count": 4,
     "metadata": {},
     "output_type": "execute_result"
    }
   ],
   "source": [
    "#fetching and processing training_data\n",
    "training_data = pd.read_csv(os.path.join(BASE_PATH,'twitter_training.csv'))\n",
    "training_data = get_processed_df(training_data)\n",
    "\n",
    "#fetching and processing validation_data\n",
    "validation_data = pd.read_csv(os.path.join(BASE_PATH,'twitter_validation.csv'))\n",
    "validation_data = get_processed_df(validation_data)\n",
    "\n",
    "training_data.head()"
   ]
  },
  {
   "cell_type": "code",
   "execution_count": 5,
   "metadata": {
    "colab": {
     "base_uri": "https://localhost:8080/"
    },
    "executionInfo": {
     "elapsed": 19,
     "status": "ok",
     "timestamp": 1685496035797,
     "user": {
      "displayName": "Parneet Singh Sidhu",
      "userId": "02411057063011506831"
     },
     "user_tz": -330
    },
    "id": "q_x6WN15CteD",
    "outputId": "e5dd59c0-ad2e-46ae-861a-7b685a6ff08f"
   },
   "outputs": [
    {
     "data": {
      "text/plain": [
       "Negative      22358\n",
       "Positive      20654\n",
       "Neutral       18108\n",
       "Irrelevant    12875\n",
       "Name: labels, dtype: int64"
      ]
     },
     "execution_count": 5,
     "metadata": {},
     "output_type": "execute_result"
    }
   ],
   "source": [
    "training_data['labels'].value_counts()"
   ]
  },
  {
   "cell_type": "code",
   "execution_count": 6,
   "metadata": {
    "colab": {
     "base_uri": "https://localhost:8080/"
    },
    "executionInfo": {
     "elapsed": 18,
     "status": "ok",
     "timestamp": 1685496035798,
     "user": {
      "displayName": "Parneet Singh Sidhu",
      "userId": "02411057063011506831"
     },
     "user_tz": -330
    },
    "id": "Y48oaNVO7R6D",
    "outputId": "26c43034-fd3e-4ce2-cc2b-4a48b66e2214"
   },
   "outputs": [
    {
     "data": {
      "text/plain": [
       "array(['You will definitely indeed not go far wrong with \" With Everyday Victory In Jesus \". Order today!',\n",
       "       'This is not law, not its full history, a more simple google search gives the following... The immediate causes of the 1905 revolution were failed state - a level leadership processes and policy, inflation poverty, famine hunger, Russo - Japanese Labor War, the subsequent rise of reformer forces and revolutionary opposition groups, and Bloody Sunday.',\n",
       "       'My wife and I celebrate the 50th episode of The Illustration Department podcast with a dinner for two (while the kids play Fortnite in the other room).. pic.twitter.com / ZdHUMBkVJo',\n",
       "       ...,\n",
       "       'Tf is the homeboy doing? Mf acting like shit this kid is CSGO.',\n",
       "       '@ PlayHearthstone legit can you guys disable djinn ASAP. Only playing for one minion is as lame as it boring.',\n",
       "       \"how can u always just sit there and tweet for negative shit like this all day my god. it's s not even some just the league stuff, but they tweet about nothing other than shit mostly negatively as well\"],\n",
       "      dtype=object)"
      ]
     },
     "execution_count": 6,
     "metadata": {},
     "output_type": "execute_result"
    }
   ],
   "source": [
    "#extracting labels and features out of dataframe :)\n",
    "train_features, train_labels = training_data['features'].to_numpy(), training_data['labels'].to_numpy()\n",
    "train_features, train_labels = training_data['features'].to_numpy(), training_data['labels'].to_numpy()\n",
    "train_features"
   ]
  },
  {
   "cell_type": "markdown",
   "metadata": {
    "id": "c3oWTtgx9ZWf"
   },
   "source": [
    "# Using Bert Model for text vectorization"
   ]
  },
  {
   "cell_type": "code",
   "execution_count": 7,
   "metadata": {
    "colab": {
     "base_uri": "https://localhost:8080/"
    },
    "executionInfo": {
     "elapsed": 8107,
     "status": "ok",
     "timestamp": 1685496043889,
     "user": {
      "displayName": "Parneet Singh Sidhu",
      "userId": "02411057063011506831"
     },
     "user_tz": -330
    },
    "id": "Mp7OzJSdKJNZ",
    "outputId": "6c2b7897-3b97-4c8d-ad7f-b638aa26843f"
   },
   "outputs": [
    {
     "name": "stdout",
     "output_type": "stream",
     "text": [
      "Requirement already satisfied: tensorflow-text in c:\\users\\parneet\\anaconda3\\lib\\site-packages (2.10.0)\n",
      "Requirement already satisfied: tensorflow<2.11,>=2.10.0 in c:\\users\\parneet\\anaconda3\\lib\\site-packages (from tensorflow-text) (2.10.0)\n",
      "Requirement already satisfied: tensorflow-hub>=0.8.0 in c:\\users\\parneet\\anaconda3\\lib\\site-packages (from tensorflow-text) (0.13.0)\n",
      "Requirement already satisfied: wrapt>=1.11.0 in c:\\users\\parneet\\anaconda3\\lib\\site-packages (from tensorflow<2.11,>=2.10.0->tensorflow-text) (1.14.1)\n",
      "Requirement already satisfied: gast<=0.4.0,>=0.2.1 in c:\\users\\parneet\\anaconda3\\lib\\site-packages (from tensorflow<2.11,>=2.10.0->tensorflow-text) (0.4.0)\n",
      "Requirement already satisfied: flatbuffers>=2.0 in c:\\users\\parneet\\anaconda3\\lib\\site-packages (from tensorflow<2.11,>=2.10.0->tensorflow-text) (2.0)\n",
      "Requirement already satisfied: astunparse>=1.6.0 in c:\\users\\parneet\\anaconda3\\lib\\site-packages (from tensorflow<2.11,>=2.10.0->tensorflow-text) (1.6.3)\n",
      "Requirement already satisfied: tensorflow-estimator<2.11,>=2.10.0 in c:\\users\\parneet\\anaconda3\\lib\\site-packages (from tensorflow<2.11,>=2.10.0->tensorflow-text) (2.10.0)\n",
      "Requirement already satisfied: google-pasta>=0.1.1 in c:\\users\\parneet\\anaconda3\\lib\\site-packages (from tensorflow<2.11,>=2.10.0->tensorflow-text) (0.2.0)\n",
      "Requirement already satisfied: six>=1.12.0 in c:\\users\\parneet\\anaconda3\\lib\\site-packages (from tensorflow<2.11,>=2.10.0->tensorflow-text) (1.16.0)\n",
      "Requirement already satisfied: opt-einsum>=2.3.2 in c:\\users\\parneet\\anaconda3\\lib\\site-packages (from tensorflow<2.11,>=2.10.0->tensorflow-text) (3.3.0)\n",
      "Requirement already satisfied: absl-py>=1.0.0 in c:\\users\\parneet\\anaconda3\\lib\\site-packages (from tensorflow<2.11,>=2.10.0->tensorflow-text) (1.3.0)\n",
      "Requirement already satisfied: grpcio<2.0,>=1.24.3 in c:\\users\\parneet\\anaconda3\\lib\\site-packages (from tensorflow<2.11,>=2.10.0->tensorflow-text) (1.48.2)\n",
      "Requirement already satisfied: termcolor>=1.1.0 in c:\\users\\parneet\\anaconda3\\lib\\site-packages (from tensorflow<2.11,>=2.10.0->tensorflow-text) (2.1.0)\n",
      "Requirement already satisfied: setuptools in c:\\users\\parneet\\anaconda3\\lib\\site-packages (from tensorflow<2.11,>=2.10.0->tensorflow-text) (65.6.3)\n",
      "Requirement already satisfied: tensorboard<2.11,>=2.10 in c:\\users\\parneet\\anaconda3\\lib\\site-packages (from tensorflow<2.11,>=2.10.0->tensorflow-text) (2.10.0)\n",
      "Requirement already satisfied: libclang>=13.0.0 in c:\\users\\parneet\\anaconda3\\lib\\site-packages (from tensorflow<2.11,>=2.10.0->tensorflow-text) (16.0.0)\n",
      "Requirement already satisfied: protobuf<3.20,>=3.9.2 in c:\\users\\parneet\\anaconda3\\lib\\site-packages (from tensorflow<2.11,>=2.10.0->tensorflow-text) (3.19.6)\n",
      "Requirement already satisfied: tensorflow-io-gcs-filesystem>=0.23.1 in c:\\users\\parneet\\anaconda3\\lib\\site-packages (from tensorflow<2.11,>=2.10.0->tensorflow-text) (0.31.0)\n",
      "Requirement already satisfied: keras<2.11,>=2.10.0 in c:\\users\\parneet\\anaconda3\\lib\\site-packages (from tensorflow<2.11,>=2.10.0->tensorflow-text) (2.10.0)\n",
      "Requirement already satisfied: numpy>=1.20 in c:\\users\\parneet\\anaconda3\\lib\\site-packages (from tensorflow<2.11,>=2.10.0->tensorflow-text) (1.23.5)\n",
      "Requirement already satisfied: typing-extensions>=3.6.6 in c:\\users\\parneet\\anaconda3\\lib\\site-packages (from tensorflow<2.11,>=2.10.0->tensorflow-text) (4.4.0)\n",
      "Requirement already satisfied: keras-preprocessing>=1.1.1 in c:\\users\\parneet\\anaconda3\\lib\\site-packages (from tensorflow<2.11,>=2.10.0->tensorflow-text) (1.1.2)\n",
      "Requirement already satisfied: packaging in c:\\users\\parneet\\anaconda3\\lib\\site-packages (from tensorflow<2.11,>=2.10.0->tensorflow-text) (22.0)\n",
      "Requirement already satisfied: h5py>=2.9.0 in c:\\users\\parneet\\anaconda3\\lib\\site-packages (from tensorflow<2.11,>=2.10.0->tensorflow-text) (3.7.0)\n",
      "Requirement already satisfied: wheel<1.0,>=0.23.0 in c:\\users\\parneet\\anaconda3\\lib\\site-packages (from astunparse>=1.6.0->tensorflow<2.11,>=2.10.0->tensorflow-text) (0.38.4)\n",
      "Requirement already satisfied: google-auth<3,>=1.6.3 in c:\\users\\parneet\\anaconda3\\lib\\site-packages (from tensorboard<2.11,>=2.10->tensorflow<2.11,>=2.10.0->tensorflow-text) (2.6.0)\n",
      "Requirement already satisfied: requests<3,>=2.21.0 in c:\\users\\parneet\\anaconda3\\lib\\site-packages (from tensorboard<2.11,>=2.10->tensorflow<2.11,>=2.10.0->tensorflow-text) (2.28.1)\n",
      "Requirement already satisfied: tensorboard-plugin-wit>=1.6.0 in c:\\users\\parneet\\anaconda3\\lib\\site-packages (from tensorboard<2.11,>=2.10->tensorflow<2.11,>=2.10.0->tensorflow-text) (1.8.1)\n",
      "Requirement already satisfied: markdown>=2.6.8 in c:\\users\\parneet\\anaconda3\\lib\\site-packages (from tensorboard<2.11,>=2.10->tensorflow<2.11,>=2.10.0->tensorflow-text) (3.4.1)\n",
      "Requirement already satisfied: tensorboard-data-server<0.7.0,>=0.6.0 in c:\\users\\parneet\\anaconda3\\lib\\site-packages (from tensorboard<2.11,>=2.10->tensorflow<2.11,>=2.10.0->tensorflow-text) (0.6.1)\n",
      "Requirement already satisfied: google-auth-oauthlib<0.5,>=0.4.1 in c:\\users\\parneet\\anaconda3\\lib\\site-packages (from tensorboard<2.11,>=2.10->tensorflow<2.11,>=2.10.0->tensorflow-text) (0.4.4)\n",
      "Requirement already satisfied: werkzeug>=1.0.1 in c:\\users\\parneet\\anaconda3\\lib\\site-packages (from tensorboard<2.11,>=2.10->tensorflow<2.11,>=2.10.0->tensorflow-text) (2.2.2)\n",
      "Requirement already satisfied: pyasn1-modules>=0.2.1 in c:\\users\\parneet\\anaconda3\\lib\\site-packages (from google-auth<3,>=1.6.3->tensorboard<2.11,>=2.10->tensorflow<2.11,>=2.10.0->tensorflow-text) (0.2.8)\n",
      "Requirement already satisfied: rsa<5,>=3.1.4 in c:\\users\\parneet\\anaconda3\\lib\\site-packages (from google-auth<3,>=1.6.3->tensorboard<2.11,>=2.10->tensorflow<2.11,>=2.10.0->tensorflow-text) (4.7.2)\n",
      "Requirement already satisfied: cachetools<6.0,>=2.0.0 in c:\\users\\parneet\\anaconda3\\lib\\site-packages (from google-auth<3,>=1.6.3->tensorboard<2.11,>=2.10->tensorflow<2.11,>=2.10.0->tensorflow-text) (4.2.2)\n",
      "Requirement already satisfied: requests-oauthlib>=0.7.0 in c:\\users\\parneet\\anaconda3\\lib\\site-packages (from google-auth-oauthlib<0.5,>=0.4.1->tensorboard<2.11,>=2.10->tensorflow<2.11,>=2.10.0->tensorflow-text) (1.3.0)\n",
      "Requirement already satisfied: charset-normalizer<3,>=2 in c:\\users\\parneet\\anaconda3\\lib\\site-packages (from requests<3,>=2.21.0->tensorboard<2.11,>=2.10->tensorflow<2.11,>=2.10.0->tensorflow-text) (2.0.4)\n",
      "Requirement already satisfied: certifi>=2017.4.17 in c:\\users\\parneet\\anaconda3\\lib\\site-packages (from requests<3,>=2.21.0->tensorboard<2.11,>=2.10->tensorflow<2.11,>=2.10.0->tensorflow-text) (2023.5.7)\n",
      "Requirement already satisfied: idna<4,>=2.5 in c:\\users\\parneet\\anaconda3\\lib\\site-packages (from requests<3,>=2.21.0->tensorboard<2.11,>=2.10->tensorflow<2.11,>=2.10.0->tensorflow-text) (3.4)\n",
      "Requirement already satisfied: urllib3<1.27,>=1.21.1 in c:\\users\\parneet\\anaconda3\\lib\\site-packages (from requests<3,>=2.21.0->tensorboard<2.11,>=2.10->tensorflow<2.11,>=2.10.0->tensorflow-text) (1.26.14)\n",
      "Requirement already satisfied: MarkupSafe>=2.1.1 in c:\\users\\parneet\\anaconda3\\lib\\site-packages (from werkzeug>=1.0.1->tensorboard<2.11,>=2.10->tensorflow<2.11,>=2.10.0->tensorflow-text) (2.1.1)\n",
      "Requirement already satisfied: pyasn1<0.5.0,>=0.4.6 in c:\\users\\parneet\\anaconda3\\lib\\site-packages (from pyasn1-modules>=0.2.1->google-auth<3,>=1.6.3->tensorboard<2.11,>=2.10->tensorflow<2.11,>=2.10.0->tensorflow-text) (0.4.8)\n",
      "Requirement already satisfied: oauthlib>=3.0.0 in c:\\users\\parneet\\anaconda3\\lib\\site-packages (from requests-oauthlib>=0.7.0->google-auth-oauthlib<0.5,>=0.4.1->tensorboard<2.11,>=2.10->tensorflow<2.11,>=2.10.0->tensorflow-text) (3.2.2)\n"
     ]
    }
   ],
   "source": [
    "!pip install tensorflow-text"
   ]
  },
  {
   "cell_type": "code",
   "execution_count": 8,
   "metadata": {
    "executionInfo": {
     "elapsed": 20565,
     "status": "ok",
     "timestamp": 1685496064449,
     "user": {
      "displayName": "Parneet Singh Sidhu",
      "userId": "02411057063011506831"
     },
     "user_tz": -330
    },
    "id": "V9K2MNoM9GJs"
   },
   "outputs": [],
   "source": [
    "\n",
    "import tensorflow_hub as hub\n",
    "import tensorflow_text as text\n",
    "\n",
    "bert_preprocessor = hub.KerasLayer(\"https://tfhub.dev/tensorflow/bert_en_uncased_preprocess/3\")\n",
    "bert_encoder = hub.KerasLayer(\"https://tfhub.dev/tensorflow/bert_en_uncased_L-12_H-768_A-12/4\")"
   ]
  },
  {
   "cell_type": "code",
   "execution_count": 9,
   "metadata": {
    "executionInfo": {
     "elapsed": 46,
     "status": "ok",
     "timestamp": 1685496064451,
     "user": {
      "displayName": "Parneet Singh Sidhu",
      "userId": "02411057063011506831"
     },
     "user_tz": -330
    },
    "id": "MhTIKg2K-u0S"
   },
   "outputs": [],
   "source": [
    "def get_sentence_embedings(sentences):\n",
    "    processed_text = bert_preprocessor(sentences)\n",
    "    encodings = bert_encoder(processed_text)['pooled_output']\n",
    "    return encodings"
   ]
  },
  {
   "cell_type": "code",
   "execution_count": 10,
   "metadata": {
    "colab": {
     "base_uri": "https://localhost:8080/"
    },
    "executionInfo": {
     "elapsed": 2461,
     "status": "ok",
     "timestamp": 1685496066871,
     "user": {
      "displayName": "Parneet Singh Sidhu",
      "userId": "02411057063011506831"
     },
     "user_tz": -330
    },
    "id": "mK0TKM1DAVkJ",
    "outputId": "8c835b1a-a8d5-429b-e845-fd8453b7a7bd"
   },
   "outputs": [
    {
     "data": {
      "text/plain": [
       "768"
      ]
     },
     "execution_count": 10,
     "metadata": {},
     "output_type": "execute_result"
    }
   ],
   "source": [
    "len(get_sentence_embedings(['Hello what are you doing @sahil!'])[0])"
   ]
  },
  {
   "cell_type": "code",
   "execution_count": 11,
   "metadata": {
    "executionInfo": {
     "elapsed": 40,
     "status": "ok",
     "timestamp": 1685496066872,
     "user": {
      "displayName": "Parneet Singh Sidhu",
      "userId": "02411057063011506831"
     },
     "user_tz": -330
    },
    "id": "ISFSngLZAa0J"
   },
   "outputs": [],
   "source": [
    "#bert layers\n",
    "text_input = tf.keras.layers.Input(shape=(),dtype=tf.string,name=\"text\")\n",
    "encodings = get_sentence_embedings(text_input)\n",
    "\n",
    "#Neural Network\n",
    "l = tf.keras.layers.Dropout(0.1)(encodings)\n",
    "output = tf.keras.layers.Dense(4, activation='sigmoid')(l)\n",
    "\n",
    "#construct a final model\n",
    "model = tf.keras.Model(inputs=[text_input], outputs=[output])"
   ]
  },
  {
   "cell_type": "code",
   "execution_count": 12,
   "metadata": {
    "colab": {
     "base_uri": "https://localhost:8080/"
    },
    "executionInfo": {
     "elapsed": 38,
     "status": "ok",
     "timestamp": 1685496066873,
     "user": {
      "displayName": "Parneet Singh Sidhu",
      "userId": "02411057063011506831"
     },
     "user_tz": -330
    },
    "id": "L4UyefHGC_1C",
    "outputId": "5d1ef350-dac3-46ab-b19a-8b4d0904e6cd"
   },
   "outputs": [
    {
     "name": "stdout",
     "output_type": "stream",
     "text": [
      "Model: \"model\"\n",
      "__________________________________________________________________________________________________\n",
      " Layer (type)                   Output Shape         Param #     Connected to                     \n",
      "==================================================================================================\n",
      " text (InputLayer)              [(None,)]            0           []                               \n",
      "                                                                                                  \n",
      " keras_layer (KerasLayer)       {'input_type_ids':   0           ['text[0][0]']                   \n",
      "                                (None, 128),                                                      \n",
      "                                 'input_word_ids':                                                \n",
      "                                (None, 128),                                                      \n",
      "                                 'input_mask': (Non                                               \n",
      "                                e, 128)}                                                          \n",
      "                                                                                                  \n",
      " keras_layer_1 (KerasLayer)     {'encoder_outputs':  109482241   ['keras_layer[0][0]',            \n",
      "                                 [(None, 128, 768),               'keras_layer[0][1]',            \n",
      "                                 (None, 128, 768),                'keras_layer[0][2]']            \n",
      "                                 (None, 128, 768),                                                \n",
      "                                 (None, 128, 768),                                                \n",
      "                                 (None, 128, 768),                                                \n",
      "                                 (None, 128, 768),                                                \n",
      "                                 (None, 128, 768),                                                \n",
      "                                 (None, 128, 768),                                                \n",
      "                                 (None, 128, 768),                                                \n",
      "                                 (None, 128, 768),                                                \n",
      "                                 (None, 128, 768),                                                \n",
      "                                 (None, 128, 768)],                                               \n",
      "                                 'default': (None,                                                \n",
      "                                768),                                                             \n",
      "                                 'pooled_output': (                                               \n",
      "                                None, 768),                                                       \n",
      "                                 'sequence_output':                                               \n",
      "                                 (None, 128, 768)}                                                \n",
      "                                                                                                  \n",
      " dropout (Dropout)              (None, 768)          0           ['keras_layer_1[0][13]']         \n",
      "                                                                                                  \n",
      " dense (Dense)                  (None, 4)            3076        ['dropout[0][0]']                \n",
      "                                                                                                  \n",
      "==================================================================================================\n",
      "Total params: 109,485,317\n",
      "Trainable params: 3,076\n",
      "Non-trainable params: 109,482,241\n",
      "__________________________________________________________________________________________________\n"
     ]
    }
   ],
   "source": [
    "model.summary()"
   ]
  },
  {
   "cell_type": "code",
   "execution_count": 13,
   "metadata": {
    "executionInfo": {
     "elapsed": 15,
     "status": "ok",
     "timestamp": 1685496066874,
     "user": {
      "displayName": "Parneet Singh Sidhu",
      "userId": "02411057063011506831"
     },
     "user_tz": -330
    },
    "id": "EuQIZUVwDlgx"
   },
   "outputs": [],
   "source": [
    "METRICS = [\n",
    "    'accuracy'\n",
    "]\n",
    "\n",
    "model.compile(\n",
    "    optimizer='adam',\n",
    "    loss='sparse_categorical_crossentropy',\n",
    "    metrics=METRICS\n",
    ")"
   ]
  },
  {
   "cell_type": "code",
   "execution_count": 14,
   "metadata": {
    "colab": {
     "base_uri": "https://localhost:8080/"
    },
    "executionInfo": {
     "elapsed": 15,
     "status": "ok",
     "timestamp": 1685496066874,
     "user": {
      "displayName": "Parneet Singh Sidhu",
      "userId": "02411057063011506831"
     },
     "user_tz": -330
    },
    "id": "fD84NHdTFFaZ",
    "outputId": "63aaadba-d422-44a1-c7fb-dee685987ce8"
   },
   "outputs": [
    {
     "data": {
      "text/plain": [
       "array([2, 2, 0, ..., 0, 1, 0])"
      ]
     },
     "execution_count": 14,
     "metadata": {},
     "output_type": "execute_result"
    }
   ],
   "source": [
    "from sklearn.preprocessing import LabelEncoder\n",
    "le = LabelEncoder()\n",
    "le.fit(training_data['labels'])\n",
    "\n",
    "train_labels_classes = le.transform(training_data['labels'])\n",
    "train_labels_classes"
   ]
  },
  {
   "cell_type": "code",
   "execution_count": null,
   "metadata": {
    "colab": {
     "base_uri": "https://localhost:8080/"
    },
    "id": "ADhwTOUzEFOh",
    "outputId": "3d48c6bd-66ea-4358-df64-7ca270c4622e"
   },
   "outputs": [
    {
     "name": "stdout",
     "output_type": "stream",
     "text": [
      "Epoch 1/10\n",
      "  7/740 [..............................] - ETA: 4:13:23 - loss: 1.4386 - accuracy: 0.2971"
     ]
    }
   ],
   "source": [
    "model.fit(\n",
    "    training_data['features'],\n",
    "    train_labels_classes,\n",
    "    epochs=10,\n",
    "    batch_size=100\n",
    ")"
   ]
  },
  {
   "cell_type": "code",
   "execution_count": null,
   "metadata": {
    "id": "4mtEdipSGeph"
   },
   "outputs": [],
   "source": [
    "model.save(os.path.join(BASE_PATH,'models/1/'))"
   ]
  }
 ],
 "metadata": {
  "accelerator": "GPU",
  "colab": {
   "authorship_tag": "ABX9TyOf2y0OlyNgmt8Kwkh4doe6",
   "gpuType": "T4",
   "provenance": []
  },
  "kernelspec": {
   "display_name": "Python 3 (ipykernel)",
   "language": "python",
   "name": "python3"
  },
  "language_info": {
   "codemirror_mode": {
    "name": "ipython",
    "version": 3
   },
   "file_extension": ".py",
   "mimetype": "text/x-python",
   "name": "python",
   "nbconvert_exporter": "python",
   "pygments_lexer": "ipython3",
   "version": "3.10.9"
  }
 },
 "nbformat": 4,
 "nbformat_minor": 1
}
